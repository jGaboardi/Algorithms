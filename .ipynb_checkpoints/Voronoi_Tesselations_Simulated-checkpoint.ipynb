{
 "cells": [
  {
   "cell_type": "markdown",
   "metadata": {},
   "source": [
    "http://stackoverflow.com/questions/27548363/from-voronoi-tessellation-to-shapely-polygons\n",
    "http://scipy.github.io/devdocs/generated/scipy.spatial.Voronoi.html"
   ]
  },
  {
   "cell_type": "code",
   "execution_count": null,
   "metadata": {
    "collapsed": false
   },
   "outputs": [],
   "source": [
    "import numpy as np\n",
    "import pysal as ps\n",
    "import pandas as pd\n",
    "import geopandas as gpd\n",
    "import matplotlib.pyplot as plt\n",
    "import matplotlib as mpl\n",
    "import shapely\n",
    "import time\n",
    "from scipy.spatial import Voronoi, voronoi_plot_2d\n",
    "%matplotlib inline\n",
    "\n",
    "mpl.rcParams['figure.figsize'] = 10,10  #set the default map size\n",
    "mpl.rcParams['patch.linewidth'] = 0.5  #set default polygon line width\n",
    "\n",
    "np.random.seed(352)\n",
    "\n",
    "# Local path on user's machine\n",
    "path = '/Users/jgaboardi/Algorithms_etc./Data/'"
   ]
  },
  {
   "cell_type": "code",
   "execution_count": null,
   "metadata": {
    "collapsed": false
   },
   "outputs": [],
   "source": [
    "points_list"
   ]
  },
  {
   "cell_type": "code",
   "execution_count": null,
   "metadata": {
    "collapsed": false
   },
   "outputs": [],
   "source": [
    "# Create Simulated Data for the Voronoi\n",
    "simulated_points = 6\n",
    "simulated_range = range(simulated_points)\n",
    "points_list = []\n",
    "for i in simulated_range:\n",
    "    points_list.append([float(np.random.uniform(0,10,1)), float(np.random.uniform(0,10,1))])\n",
    "\n",
    "# Instantiate and Plot the Voronoi    \n",
    "t1_simulated = time.time()\n",
    "vor = Voronoi(points_list)\n",
    "voronoi_plot_2d(vor)\n",
    "plt.show()\n",
    "t2_simulated = time.time()-t1_simulated\n",
    "print t2_simulated, 'seconds to instantiate the Voronoi Tessellation and plot the diagram'\n",
    "print vor.npoints, 'points'\n",
    "print len(vor.regions), 'regions'"
   ]
  },
  {
   "cell_type": "code",
   "execution_count": null,
   "metadata": {
    "collapsed": false
   },
   "outputs": [],
   "source": [
    "print vor.vertices[:]\n",
    "print vor.ridge_vertices[:]\n"
   ]
  },
  {
   "cell_type": "code",
   "execution_count": null,
   "metadata": {
    "collapsed": false
   },
   "outputs": [],
   "source": [
    "simulated_lines = [shapely.geometry.LineString(vor.vertices[line])\n",
    "                    for line in vor.ridge_vertices\n",
    "                    if -1 not in line]"
   ]
  },
  {
   "cell_type": "code",
   "execution_count": null,
   "metadata": {
    "collapsed": false
   },
   "outputs": [],
   "source": [
    "print simulated_lines[0]"
   ]
  },
  {
   "cell_type": "code",
   "execution_count": null,
   "metadata": {
    "collapsed": false
   },
   "outputs": [],
   "source": [
    "simulated_gdf = gpd.GeoSeries([p for p in shapely.ops.polygonize(simulated_lines)])"
   ]
  },
  {
   "cell_type": "code",
   "execution_count": null,
   "metadata": {
    "collapsed": false
   },
   "outputs": [],
   "source": [
    "simulated_gdf.plot()"
   ]
  },
  {
   "cell_type": "code",
   "execution_count": null,
   "metadata": {
    "collapsed": false
   },
   "outputs": [],
   "source": [
    "simulated_gdf = gpd.GeoDataFrame(simulated_gdf)"
   ]
  },
  {
   "cell_type": "code",
   "execution_count": null,
   "metadata": {
    "collapsed": false
   },
   "outputs": [],
   "source": [
    "simulated_gdf.columns = ['geometry']"
   ]
  },
  {
   "cell_type": "code",
   "execution_count": null,
   "metadata": {
    "collapsed": false
   },
   "outputs": [],
   "source": [
    "simulated_gdf.to_file('Users/jgaboardi/Desktop/VORONOI.shp')"
   ]
  },
  {
   "cell_type": "code",
   "execution_count": null,
   "metadata": {
    "collapsed": true
   },
   "outputs": [],
   "source": []
  }
 ],
 "metadata": {
  "kernelspec": {
   "display_name": "Python 2",
   "language": "python",
   "name": "python2"
  },
  "language_info": {
   "codemirror_mode": {
    "name": "ipython",
    "version": 2
   },
   "file_extension": ".py",
   "mimetype": "text/x-python",
   "name": "python",
   "nbconvert_exporter": "python",
   "pygments_lexer": "ipython2",
   "version": "2.7.10"
  }
 },
 "nbformat": 4,
 "nbformat_minor": 0
}
