{
 "cells": [
  {
   "cell_type": "code",
   "execution_count": 1,
   "metadata": {
    "collapsed": true
   },
   "outputs": [],
   "source": [
    "# GNU LESSER GENERAL PUBLIC LICENSE\n",
    "# Version 3, 29 June 2007.\n",
    "# Copyright (C) 2007 Free Software Foundation, Inc. <http://fsf.org/>.\n",
    "# Everyone is permitted to copy and distribute verbatim copies of this \n",
    "# license document, but changing it is not allowed."
   ]
  },
  {
   "cell_type": "markdown",
   "metadata": {},
   "source": [
    "# Creating Voronoi Tesselations\n",
    "## Automated Simulation in GIS\n",
    "---\n",
    "\n",
    "### James Gaboardi, 2016"
   ]
  },
  {
   "cell_type": "code",
   "execution_count": 2,
   "metadata": {
    "collapsed": false
   },
   "outputs": [
    {
     "name": "stderr",
     "output_type": "stream",
     "text": [
      "/Users/jgaboardi/Library/Enthought/Canopy_64bit/User/lib/python2.7/site-packages/matplotlib/font_manager.py:273: UserWarning: Matplotlib is building the font cache using fc-list. This may take a moment.\n",
      "  warnings.warn('Matplotlib is building the font cache using fc-list. This may take a moment.')\n"
     ]
    }
   ],
   "source": [
    "import numpy as np\n",
    "import pysal as ps\n",
    "import pandas as pd\n",
    "import geopandas as gpd\n",
    "import matplotlib.pyplot as plt\n",
    "import matplotlib as mpl\n",
    "import shapely\n",
    "import time\n",
    "from scipy.spatial import Voronoi, voronoi_plot_2d\n",
    "%matplotlib inline\n",
    "\n",
    "mpl.rcParams['figure.figsize'] = 20,20  #set the default map size\n",
    "mpl.rcParams['patch.linewidth'] = 0.5  #set default polygon line width\n",
    "\n",
    "np.random.seed(352)\n",
    "\n",
    "# Local path on user's machine\n",
    "path = '/Users/jgaboardi/Algorithms_etc./Data/'"
   ]
  },
  {
   "cell_type": "code",
   "execution_count": 3,
   "metadata": {
    "collapsed": false
   },
   "outputs": [
    {
     "name": "stdout",
     "output_type": "stream",
     "text": [
      "0.396848917007\n"
     ]
    }
   ],
   "source": [
    "t1_shp_reads = time.time()\n",
    "\n",
    "# Waverly Hills streets and bounding box\n",
    "streets = gpd.read_file(path+'Waverly_Trim/Waverly.shp')\n",
    "streets.to_crs(epsg=2779, inplace=True) # NAD83(HARN) / Florida North\n",
    "streets.to_file(path+'waverly/waverly.shp')\n",
    "shp_waverly = ps.open(path+'waverly/waverly.shp')\n",
    "b_box = shp_waverly.bbox\n",
    "\n",
    "'''\n",
    "# Leon County streets and bounding box\n",
    "streets = gpd.read_file(path+'Leon_County/LCSTSEG.shp')\n",
    "streets.to_crs(epsg=2779, inplace=True) # NAD83(HARN) / Florida North\n",
    "streets.to_file(path+'leon/leon.shp')\n",
    "shp_Leon = ps.open(path+'leon/leon.shp')\n",
    "b_box = shp_Leon.bbox\n",
    "'''\n",
    "t2_shp_reads = time.time()-t1_shp_reads\n",
    "print t2_shp_reads"
   ]
  },
  {
   "cell_type": "code",
   "execution_count": 4,
   "metadata": {
    "collapsed": false
   },
   "outputs": [
    {
     "data": {
      "text/plain": [
       "0    POLYGON ((623124.0407875385 164212.5102460865,...\n",
       "1    POLYGON ((622546.5762248621 163255.235891574, ...\n",
       "2    POLYGON ((623559.7869314271 165528.3883790929,...\n",
       "3    POLYGON ((623200.6855916528 164368.5069398382,...\n",
       "4    POLYGON ((623558.3641320666 165459.8080567809,...\n",
       "dtype: object"
      ]
     },
     "execution_count": 4,
     "metadata": {},
     "output_type": "execute_result"
    }
   ],
   "source": [
    "# Individual street buffers in meters\n",
    "intial_buffer = streets.buffer(50)  \n",
    "intial_buffer[:5]"
   ]
  },
  {
   "cell_type": "code",
   "execution_count": 5,
   "metadata": {
    "collapsed": true
   },
   "outputs": [],
   "source": [
    "# Union of individual buffers\n",
    "union_buffer = intial_buffer.unary_union  \n",
    "union_buffer = gpd.GeoSeries(union_buffer)\n",
    "union_buffer.crs = streets.crs\n",
    "union_buffer = gpd.GeoDataFrame(union_buffer, crs=streets.crs)\n",
    "union_buffer.columns = ['geometry']"
   ]
  },
  {
   "cell_type": "code",
   "execution_count": 6,
   "metadata": {
    "collapsed": true
   },
   "outputs": [],
   "source": [
    "# Create convex hull buffer union\n",
    "convex_hull_of_union = gpd.GeoDataFrame(union_buffer.convex_hull)\n",
    "convex_hull_of_union.columns = ['geometry']"
   ]
  },
  {
   "cell_type": "code",
   "execution_count": null,
   "metadata": {
    "collapsed": false
   },
   "outputs": [
    {
     "name": "stdout",
     "output_type": "stream",
     "text": [
      "1.4156639576 seconds to simulate households in Waverly\n"
     ]
    }
   ],
   "source": [
    "# Generate (n) simulated households\n",
    "n = 100000\n",
    "t1_allpoints = time.time()\n",
    "np.random.seed(352)\n",
    "x = np.random.uniform(b_box[0], b_box[2], n)\n",
    "np.random.seed(850)\n",
    "y = np.random.uniform(b_box[1], b_box[3], n)  \n",
    "simulated_coords = zip(x,y)\n",
    "simulated_coord_points = [shapely.geometry.Point(xy_coord) for xy_coord in simulated_coords]\n",
    "simulated_households = gpd.GeoDataFrame(simulated_coord_points, crs=streets.crs)\n",
    "simulated_households.columns = ['geometry']\n",
    "t2_allpoints = time.time()-t1_allpoints\n",
    "print t2_allpoints, 'seconds to simulate households in Waverly'"
   ]
  },
  {
   "cell_type": "code",
   "execution_count": null,
   "metadata": {
    "collapsed": false
   },
   "outputs": [],
   "source": [
    "# Identify households within the buffer\n",
    "t1_intersection = time.time()\n",
    "intersection = [union_buffer['geometry'].intersection(hh) for hh in simulated_households['geometry']]\n",
    "t2_intersection = time.time()-t1_intersection\n",
    "print t2_intersection, 'seconds to identify households within the 50m street buffer'\n",
    "intersection = gpd.GeoDataFrame(intersection, crs=streets.crs)\n",
    "intersection.columns = ['geometry']\n",
    "\n",
    "# Ignore households not in the buffer --> shapely.geometry.collection.GeometryCollection\n",
    "households_gdf = intersection[intersection.geom_type != 'GeometryCollection']\n",
    "households_gdf[:5]"
   ]
  },
  {
   "cell_type": "code",
   "execution_count": null,
   "metadata": {
    "collapsed": false
   },
   "outputs": [],
   "source": [
    "# Create list of household coordinates to feed into Voronoi calculator\n",
    "household_coords = []\n",
    "for ids,coords in households_gdf['geometry'].iteritems():\n",
    "    household_coords.append([coords.x, coords.y])"
   ]
  },
  {
   "cell_type": "code",
   "execution_count": null,
   "metadata": {
    "collapsed": false
   },
   "outputs": [],
   "source": [
    "# Instantiate and Plot the Voronoi    \n",
    "t1_voronoi = time.time()\n",
    "vor = Voronoi(household_coords)\n",
    "voronoi_plot_2d(vor)\n",
    "plt.show()\n",
    "t2_voronoi = time.time()-t1_voronoi\n",
    "print t2_voronoi, 'seconds to instantiate the Voronoi Tessellation and plot the diagram'\n",
    "print vor.npoints, 'points'\n",
    "print len(vor.regions), 'regions'"
   ]
  },
  {
   "cell_type": "code",
   "execution_count": null,
   "metadata": {
    "collapsed": false
   },
   "outputs": [],
   "source": [
    "# Create geometries from the vertices and ridges of the Voronoi\n",
    "\n",
    "'''\n",
    "# Option 1: ignore all lines that go to infinity (-1)\n",
    "polylines = [shapely.geometry.LineString(vor.vertices[line])\n",
    "         for line in vor.ridge_vertices\n",
    "         if -1 not in line]\n",
    "\n",
    "# Option 2: use all lines\n",
    "polylines = [shapely.geometry.LineString(vor.vertices[line])\n",
    "         for line in vor.ridge_vertices]\n",
    "'''\n",
    "# Option 3: remove -1 from ridges to make all voronoi polygons finite\n",
    "vor_polys = []\n",
    "for region in vor.regions:\n",
    "    if region:\n",
    "        if -1 in region:\n",
    "            region = region[:] # so we don't change the original voronoi output\n",
    "            region.remove(-1)  # there can only be one -1 in the index list\n",
    "        vor_polys.append(shapely.geometry.MultiPoint(vor.vertices[region]).convex_hull)"
   ]
  },
  {
   "cell_type": "code",
   "execution_count": null,
   "metadata": {
    "collapsed": false
   },
   "outputs": [],
   "source": [
    "# Create a dataframe of the complete set of Voronoi polygons\n",
    "voronoi_all_df = gpd.GeoDataFrame(vor_polys, columns=['geometry'], crs=streets.crs)"
   ]
  },
  {
   "cell_type": "code",
   "execution_count": null,
   "metadata": {
    "collapsed": false
   },
   "outputs": [],
   "source": [
    "# Create a dataframe of the complete set of Voronoi polygon centroids\n",
    "voronoi_all_centroids = gpd.GeoDataFrame(voronoi_all_df.centroid, columns=['geometry'], crs=streets.crs)"
   ]
  },
  {
   "cell_type": "code",
   "execution_count": null,
   "metadata": {
    "collapsed": false
   },
   "outputs": [],
   "source": [
    "# Create a dataframe of the set of Voronoi polygons within the convex hull of the street buffer union\n",
    "poly_in_hull = [convex_hull_of_union['geometry'].intersection(hh_vor) for hh_vor in voronoi_all_df['geometry']]\n",
    "voronoi_in_df = gpd.GeoDataFrame(poly_in_hull, crs=streets.crs)\n",
    "voronoi_in_df.columns = ['geometry']"
   ]
  },
  {
   "cell_type": "code",
   "execution_count": null,
   "metadata": {
    "collapsed": false
   },
   "outputs": [],
   "source": [
    "# Create a dataframe of the set of Voronoi polygon centroids within the bounding box\n",
    "voronoi_in_centroids = gpd.GeoDataFrame(voronoi_in_df.centroid, crs=streets.crs)\n",
    "voronoi_in_centroids.columns = ['geometry']"
   ]
  },
  {
   "cell_type": "code",
   "execution_count": null,
   "metadata": {
    "collapsed": false
   },
   "outputs": [],
   "source": [
    "# Write out all dataframes to .shp\n",
    "households_gdf.to_file(path+'households/households.shp')\n",
    "convex_hull_of_union.to_file(path+'convex_hull/hull.shp')\n",
    "voronoi_all_centroids.to_file(path+'voronoi/centroids_all.shp')\n",
    "voronoi_all_df.to_file(path+'voronoi/voronoi_all.shp')\n",
    "voronoi_in_centroids.to_file(path+'voronoi/centroids_in.shp')\n",
    "voronoi_in_df.to_file(path+'voronoi/voronoi_in.shp')"
   ]
  },
  {
   "cell_type": "code",
   "execution_count": null,
   "metadata": {
    "collapsed": false
   },
   "outputs": [],
   "source": [
    "# All finite voronoi polygons\n",
    "voronoi_all_df.plot()"
   ]
  },
  {
   "cell_type": "code",
   "execution_count": null,
   "metadata": {
    "collapsed": false
   },
   "outputs": [],
   "source": [
    "# All households and all finite voronoi polygons trimmed down to a convex hull of the union buffer\n",
    "voronoi_in_df.plot()\n",
    "households_gdf.plot()"
   ]
  },
  {
   "cell_type": "markdown",
   "metadata": {
    "collapsed": false
   },
   "source": [
    "------------"
   ]
  }
 ],
 "metadata": {
  "kernelspec": {
   "display_name": "Python 2",
   "language": "python",
   "name": "python2"
  },
  "language_info": {
   "codemirror_mode": {
    "name": "ipython",
    "version": 2
   },
   "file_extension": ".py",
   "mimetype": "text/x-python",
   "name": "python",
   "nbconvert_exporter": "python",
   "pygments_lexer": "ipython2",
   "version": "2.7.10"
  }
 },
 "nbformat": 4,
 "nbformat_minor": 0
}
