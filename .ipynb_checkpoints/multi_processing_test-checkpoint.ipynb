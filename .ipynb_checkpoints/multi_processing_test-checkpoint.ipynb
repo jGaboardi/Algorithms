{
 "cells": [
  {
   "cell_type": "code",
   "execution_count": 1,
   "metadata": {
    "collapsed": true
   },
   "outputs": [],
   "source": [
    "# GNU LESSER GENERAL PUBLIC LICENSE\n",
    "# Version 3, 29 June 2007.\n",
    "# Copyright (C) 2007 Free Software Foundation, Inc. <http://fsf.org/>.\n",
    "# Everyone is permitted to copy and distribute verbatim copies of this \n",
    "# license document, but changing it is not allowed."
   ]
  },
  {
   "cell_type": "markdown",
   "metadata": {},
   "source": [
    "# Creating Voronoi Tesselations\n",
    "## Automated Simulation in GIS\n",
    "---\n",
    "\n",
    "### James Gaboardi, 2016"
   ]
  },
  {
   "cell_type": "code",
   "execution_count": 2,
   "metadata": {
    "collapsed": false
   },
   "outputs": [
    {
     "name": "stderr",
     "output_type": "stream",
     "text": [
      "/Users/jgaboardi/Library/Enthought/Canopy_64bit/User/lib/python2.7/site-packages/matplotlib/font_manager.py:273: UserWarning: Matplotlib is building the font cache using fc-list. This may take a moment.\n",
      "  warnings.warn('Matplotlib is building the font cache using fc-list. This may take a moment.')\n"
     ]
    }
   ],
   "source": [
    "import numpy as np\n",
    "import pysal as ps\n",
    "import pandas as pd\n",
    "import geopandas as gpd\n",
    "import matplotlib.pyplot as plt\n",
    "import matplotlib as mpl\n",
    "import multiprocessing as mp\n",
    "import shapely\n",
    "import time\n",
    "from scipy.spatial import Voronoi, voronoi_plot_2d\n",
    "%matplotlib inline\n",
    "\n",
    "mpl.rcParams['figure.figsize'] = 20,20  #set the default map size\n",
    "mpl.rcParams['patch.linewidth'] = 0.5  #set default polygon line width\n",
    "\n",
    "np.random.seed(352)\n",
    "\n",
    "# Local path on user's machine\n",
    "path = '/Users/jgaboardi/Algorithms_etc./Data/'"
   ]
  },
  {
   "cell_type": "code",
   "execution_count": null,
   "metadata": {
    "collapsed": true
   },
   "outputs": [],
   "source": [
    "def sq(x):\n",
    "    for i in range(1000):\n",
    "        return x*x\n",
    "\n"
   ]
  },
  {
   "cell_type": "code",
   "execution_count": null,
   "metadata": {
    "collapsed": true
   },
   "outputs": [],
   "source": [
    "\n",
    "def sq(x):\n",
    "    for i in range(1000):\n",
    "        return x*x\n",
    "\n",
    "\n",
    "cores = mp.cpu_count()\n",
    "print cores,' Cores in each Node '\n",
    "p = mp.Pool(processes=cores)\n",
    "count = range(20)\n",
    "print len(count), ' total # of integers '\n",
    "np.random.seed(352)\n",
    "\n",
    "map_time = []\n",
    "multi_time = []\n",
    "\n",
    "\n",
    "\n",
    "t1_multi = time.time()            # multi\n",
    "output_mult = p.map(sq, Ai)\n",
    "t2_multi = time.time() - t1_multi\n",
    "\n",
    "\n",
    "\n",
    "\n",
    "Map_v_Multi = pd.DataFrame(index=count)\n",
    "Map_v_Multi['Map'] = map_time\n",
    "Map_v_Multi['Multi'] = multi_time\n",
    "Map_v_Multi.index.name = 'Count'\n",
    "Map_v_Multi.to_csv('MP_Sing.csv')"
   ]
  },
  {
   "cell_type": "code",
   "execution_count": null,
   "metadata": {
    "collapsed": true
   },
   "outputs": [],
   "source": []
  },
  {
   "cell_type": "code",
   "execution_count": null,
   "metadata": {
    "collapsed": true
   },
   "outputs": [],
   "source": []
  },
  {
   "cell_type": "code",
   "execution_count": null,
   "metadata": {
    "collapsed": true
   },
   "outputs": [],
   "source": []
  },
  {
   "cell_type": "code",
   "execution_count": null,
   "metadata": {
    "collapsed": true
   },
   "outputs": [],
   "source": []
  },
  {
   "cell_type": "code",
   "execution_count": 3,
   "metadata": {
    "collapsed": false
   },
   "outputs": [
    {
     "name": "stdout",
     "output_type": "stream",
     "text": [
      "0.396848917007\n"
     ]
    }
   ],
   "source": [
    "t1_shp_reads = time.time()\n",
    "\n",
    "# Waverly Hills streets and bounding box\n",
    "streets = gpd.read_file(path+'Waverly_Trim/Waverly.shp')\n",
    "streets.to_crs(epsg=2779, inplace=True) # NAD83(HARN) / Florida North\n",
    "streets.to_file(path+'waverly/waverly.shp')\n",
    "shp_waverly = ps.open(path+'waverly/waverly.shp')\n",
    "b_box = shp_waverly.bbox\n",
    "\n",
    "'''\n",
    "# Leon County streets and bounding box\n",
    "streets = gpd.read_file(path+'Leon_County/LCSTSEG.shp')\n",
    "streets.to_crs(epsg=2779, inplace=True) # NAD83(HARN) / Florida North\n",
    "streets.to_file(path+'leon/leon.shp')\n",
    "shp_Leon = ps.open(path+'leon/leon.shp')\n",
    "b_box = shp_Leon.bbox\n",
    "'''\n",
    "t2_shp_reads = time.time()-t1_shp_reads\n",
    "print t2_shp_reads"
   ]
  },
  {
   "cell_type": "code",
   "execution_count": 4,
   "metadata": {
    "collapsed": false
   },
   "outputs": [
    {
     "data": {
      "text/plain": [
       "0    POLYGON ((623124.0407875385 164212.5102460865,...\n",
       "1    POLYGON ((622546.5762248621 163255.235891574, ...\n",
       "2    POLYGON ((623559.7869314271 165528.3883790929,...\n",
       "3    POLYGON ((623200.6855916528 164368.5069398382,...\n",
       "4    POLYGON ((623558.3641320666 165459.8080567809,...\n",
       "dtype: object"
      ]
     },
     "execution_count": 4,
     "metadata": {},
     "output_type": "execute_result"
    }
   ],
   "source": [
    "# Individual street buffers in meters\n",
    "intial_buffer = streets.buffer(50)  \n",
    "intial_buffer[:5]"
   ]
  },
  {
   "cell_type": "code",
   "execution_count": 5,
   "metadata": {
    "collapsed": true
   },
   "outputs": [],
   "source": [
    "# Union of individual buffers\n",
    "union_buffer = intial_buffer.unary_union  \n",
    "union_buffer = gpd.GeoSeries(union_buffer)\n",
    "union_buffer.crs = streets.crs\n",
    "union_buffer = gpd.GeoDataFrame(union_buffer, crs=streets.crs)\n",
    "union_buffer.columns = ['geometry']"
   ]
  },
  {
   "cell_type": "code",
   "execution_count": 6,
   "metadata": {
    "collapsed": true
   },
   "outputs": [],
   "source": [
    "# Create convex hull buffer union\n",
    "convex_hull_of_union = gpd.GeoDataFrame(union_buffer.convex_hull)\n",
    "convex_hull_of_union.columns = ['geometry']"
   ]
  },
  {
   "cell_type": "code",
   "execution_count": null,
   "metadata": {
    "collapsed": false
   },
   "outputs": [
    {
     "name": "stdout",
     "output_type": "stream",
     "text": [
      "1.4156639576 seconds to simulate households in Waverly\n"
     ]
    }
   ],
   "source": [
    "# Generate (n) simulated households\n",
    "n = 100000\n",
    "t1_allpoints = time.time()\n",
    "np.random.seed(352)\n",
    "x = np.random.uniform(b_box[0], b_box[2], n)\n",
    "np.random.seed(850)\n",
    "y = np.random.uniform(b_box[1], b_box[3], n)  \n",
    "simulated_coords = zip(x,y)\n",
    "simulated_coord_points = [shapely.geometry.Point(xy_coord) for xy_coord in simulated_coords]\n",
    "simulated_households = gpd.GeoDataFrame(simulated_coord_points, crs=streets.crs)\n",
    "simulated_households.columns = ['geometry']\n",
    "t2_allpoints = time.time()-t1_allpoints\n",
    "print t2_allpoints, 'seconds to simulate households in Waverly'"
   ]
  },
  {
   "cell_type": "code",
   "execution_count": null,
   "metadata": {
    "collapsed": false
   },
   "outputs": [],
   "source": [
    "# No Multi Processing\n",
    "\n",
    "# Identify households within the buffer\n",
    "t1_intersection_no_multi = time.time()\n",
    "intersection = [union_buffer['geometry'].intersection(hh) for hh in simulated_households['geometry']]\n",
    "t2_intersection_no_multi = time.time()-t1_intersection_no_multi\n",
    "print t2_intersection_no_multi, 'seconds to identify households within the 50m street buffer No MultiProcessing'\n",
    "intersection = gpd.GeoDataFrame(intersection, crs=streets.crs)\n",
    "intersection.columns = ['geometry']\n",
    "\n",
    "# Ignore households not in the buffer --> shapely.geometry.collection.GeometryCollection\n",
    "households_gdf = intersection[intersection.geom_type != 'GeometryCollection']\n",
    "households_gdf[:5]"
   ]
  },
  {
   "cell_type": "code",
   "execution_count": null,
   "metadata": {
    "collapsed": true
   },
   "outputs": [],
   "source": [
    "# Multi Processing\n",
    "\n",
    "\n",
    "t1_intersection_multi = time.time()\n",
    "\n",
    "intersection = [union_buffer['geometry'].intersection(hh) for hh in simulated_households['geometry']]\n",
    "\n",
    "\n",
    "\n",
    "t2_intersection_multi = time.time()-t1_intersection_multi\n",
    "\n",
    "\n",
    "print t2_intersection_multi, 'seconds to identify households within the 50m street buffer with MULTI Processing'"
   ]
  },
  {
   "cell_type": "code",
   "execution_count": null,
   "metadata": {
    "collapsed": true
   },
   "outputs": [],
   "source": []
  },
  {
   "cell_type": "markdown",
   "metadata": {
    "collapsed": false
   },
   "source": [
    "------------"
   ]
  }
 ],
 "metadata": {
  "kernelspec": {
   "display_name": "Python 2",
   "language": "python",
   "name": "python2"
  },
  "language_info": {
   "codemirror_mode": {
    "name": "ipython",
    "version": 2
   },
   "file_extension": ".py",
   "mimetype": "text/x-python",
   "name": "python",
   "nbconvert_exporter": "python",
   "pygments_lexer": "ipython2",
   "version": "2.7.10"
  }
 },
 "nbformat": 4,
 "nbformat_minor": 0
}
