{
 "cells": [
  {
   "cell_type": "code",
   "execution_count": null,
   "metadata": {
    "collapsed": true
   },
   "outputs": [],
   "source": [
    "# GNU LESSER GENERAL PUBLIC LICENSE\n",
    "# Version 3, 29 June 2007.\n",
    "# Copyright (C) 2007 Free Software Foundation, Inc. <http://fsf.org/>.\n",
    "# Everyone is permitted to copy and distribute verbatim copies of this \n",
    "# license document, but changing it is not allowed."
   ]
  },
  {
   "cell_type": "markdown",
   "metadata": {},
   "source": [
    "# Creating Voronoi Tesselations\n",
    "## Automated Simulation in GIS\n",
    "---\n",
    "\n",
    "### James Gaboardi, 2016"
   ]
  },
  {
   "cell_type": "code",
   "execution_count": 1,
   "metadata": {
    "collapsed": false
   },
   "outputs": [
    {
     "name": "stderr",
     "output_type": "stream",
     "text": [
      "/Users/jgaboardi/Library/Enthought/Canopy_64bit/User/lib/python2.7/site-packages/matplotlib/font_manager.py:273: UserWarning: Matplotlib is building the font cache using fc-list. This may take a moment.\n",
      "  warnings.warn('Matplotlib is building the font cache using fc-list. This may take a moment.')\n"
     ]
    }
   ],
   "source": [
    "import numpy as np\n",
    "import pysal as ps\n",
    "import pandas as pd\n",
    "import geopandas as gpd\n",
    "import matplotlib.pyplot as plt\n",
    "import matplotlib as mpl\n",
    "import multiprocessing as mp\n",
    "import shapely\n",
    "import time\n",
    "from scipy.spatial import Voronoi, voronoi_plot_2d\n",
    "%matplotlib inline\n",
    "\n",
    "mpl.rcParams['figure.figsize'] = 20,20  #set the default map size\n",
    "mpl.rcParams['patch.linewidth'] = 0.5  #set default polygon line width\n",
    "\n",
    "np.random.seed(352)\n",
    "\n",
    "# Local path on user's machine\n",
    "path = '/Users/jgaboardi/Algorithms_etc./Data/'"
   ]
  },
  {
   "cell_type": "code",
   "execution_count": null,
   "metadata": {
    "collapsed": true
   },
   "outputs": [],
   "source": [
    "def sq(x):\n",
    "    for i in range(1000):\n",
    "        return x*x\n",
    "\n"
   ]
  },
  {
   "cell_type": "code",
   "execution_count": null,
   "metadata": {
    "collapsed": true
   },
   "outputs": [],
   "source": [
    "cores = mp.cpu_count()\n",
    "print cores,' Cores in each Node '\n",
    "p = mp.Pool(processes=cores)\n",
    "\n",
    "\n",
    "t1_multi = time.time()            # multi\n",
    "output_mult = p.map(sq, Ai)\n",
    "t2_multi = time.time() - t1_multi\n",
    "\n",
    "\n",
    "\n",
    "\n",
    "Map_v_Multi = pd.DataFrame(index=count)\n",
    "Map_v_Multi['Map'] = map_time\n",
    "Map_v_Multi['Multi'] = multi_time\n",
    "Map_v_Multi.index.name = 'Count'\n",
    "Map_v_Multi.to_csv('MP_Sing.csv')"
   ]
  },
  {
   "cell_type": "code",
   "execution_count": null,
   "metadata": {
    "collapsed": true
   },
   "outputs": [],
   "source": []
  },
  {
   "cell_type": "code",
   "execution_count": null,
   "metadata": {
    "collapsed": true
   },
   "outputs": [],
   "source": []
  },
  {
   "cell_type": "code",
   "execution_count": null,
   "metadata": {
    "collapsed": true
   },
   "outputs": [],
   "source": []
  },
  {
   "cell_type": "code",
   "execution_count": null,
   "metadata": {
    "collapsed": true
   },
   "outputs": [],
   "source": []
  },
  {
   "cell_type": "code",
   "execution_count": 2,
   "metadata": {
    "collapsed": false
   },
   "outputs": [
    {
     "name": "stdout",
     "output_type": "stream",
     "text": [
      "0.377574920654\n"
     ]
    }
   ],
   "source": [
    "t1_shp_reads = time.time()\n",
    "\n",
    "# Waverly Hills streets and bounding box\n",
    "streets = gpd.read_file(path+'Waverly_Trim/Waverly.shp')\n",
    "streets.to_crs(epsg=2779, inplace=True) # NAD83(HARN) / Florida North\n",
    "streets.to_file(path+'waverly/waverly.shp')\n",
    "shp_waverly = ps.open(path+'waverly/waverly.shp')\n",
    "b_box = shp_waverly.bbox\n",
    "\n",
    "'''\n",
    "# Leon County streets and bounding box\n",
    "streets = gpd.read_file(path+'Leon_County/LCSTSEG.shp')\n",
    "streets.to_crs(epsg=2779, inplace=True) # NAD83(HARN) / Florida North\n",
    "streets.to_file(path+'leon/leon.shp')\n",
    "shp_Leon = ps.open(path+'leon/leon.shp')\n",
    "b_box = shp_Leon.bbox\n",
    "'''\n",
    "t2_shp_reads = time.time()-t1_shp_reads\n",
    "print t2_shp_reads"
   ]
  },
  {
   "cell_type": "code",
   "execution_count": 3,
   "metadata": {
    "collapsed": false
   },
   "outputs": [
    {
     "data": {
      "text/plain": [
       "0    POLYGON ((623124.0407875385 164212.5102460865,...\n",
       "1    POLYGON ((622546.5762248621 163255.235891574, ...\n",
       "2    POLYGON ((623559.7869314271 165528.3883790929,...\n",
       "3    POLYGON ((623200.6855916528 164368.5069398382,...\n",
       "4    POLYGON ((623558.3641320666 165459.8080567809,...\n",
       "dtype: object"
      ]
     },
     "execution_count": 3,
     "metadata": {},
     "output_type": "execute_result"
    }
   ],
   "source": [
    "# Individual street buffers in meters\n",
    "intial_buffer = streets.buffer(50)  \n",
    "intial_buffer[:5]"
   ]
  },
  {
   "cell_type": "code",
   "execution_count": 4,
   "metadata": {
    "collapsed": true
   },
   "outputs": [],
   "source": [
    "# Union of individual buffers\n",
    "union_buffer = intial_buffer.unary_union  \n",
    "union_buffer = gpd.GeoSeries(union_buffer)\n",
    "union_buffer.crs = streets.crs\n",
    "union_buffer = gpd.GeoDataFrame(union_buffer, crs=streets.crs)\n",
    "union_buffer.columns = ['geometry']"
   ]
  },
  {
   "cell_type": "code",
   "execution_count": 5,
   "metadata": {
    "collapsed": true
   },
   "outputs": [],
   "source": [
    "# Create convex hull buffer union\n",
    "convex_hull_of_union = gpd.GeoDataFrame(union_buffer.convex_hull)\n",
    "convex_hull_of_union.columns = ['geometry']"
   ]
  },
  {
   "cell_type": "code",
   "execution_count": 6,
   "metadata": {
    "collapsed": false
   },
   "outputs": [
    {
     "name": "stdout",
     "output_type": "stream",
     "text": [
      "0.00458812713623 seconds to simulate households in Waverly\n"
     ]
    }
   ],
   "source": [
    "# Generate (n) simulated households\n",
    "n = 100\n",
    "t1_allpoints = time.time()\n",
    "np.random.seed(352)\n",
    "x = np.random.uniform(b_box[0], b_box[2], n)\n",
    "np.random.seed(850)\n",
    "y = np.random.uniform(b_box[1], b_box[3], n)  \n",
    "simulated_coords = zip(x,y)\n",
    "simulated_coord_points = [shapely.geometry.Point(xy_coord) for xy_coord in simulated_coords]\n",
    "simulated_households = gpd.GeoDataFrame(simulated_coord_points, crs=streets.crs)\n",
    "simulated_households.columns = ['geometry']\n",
    "t2_allpoints = time.time()-t1_allpoints\n",
    "print t2_allpoints, 'seconds to simulate households in Waverly'"
   ]
  },
  {
   "cell_type": "code",
   "execution_count": 7,
   "metadata": {
    "collapsed": false
   },
   "outputs": [
    {
     "name": "stdout",
     "output_type": "stream",
     "text": [
      "0.781038045883 seconds to identify households within the 50m street buffer No MultiProcessing\n"
     ]
    },
    {
     "data": {
      "text/html": [
       "<div>\n",
       "<table border=\"1\" class=\"dataframe\">\n",
       "  <thead>\n",
       "    <tr style=\"text-align: right;\">\n",
       "      <th></th>\n",
       "      <th>geometry</th>\n",
       "    </tr>\n",
       "  </thead>\n",
       "  <tbody>\n",
       "    <tr>\n",
       "      <th>2</th>\n",
       "      <td>POINT (621913.3153830337 164903.3379650218)</td>\n",
       "    </tr>\n",
       "    <tr>\n",
       "      <th>3</th>\n",
       "      <td>POINT (621612.0857702466 164217.1288344094)</td>\n",
       "    </tr>\n",
       "    <tr>\n",
       "      <th>5</th>\n",
       "      <td>POINT (621854.4787915241 163374.7302612905)</td>\n",
       "    </tr>\n",
       "    <tr>\n",
       "      <th>7</th>\n",
       "      <td>POINT (622860.0605300277 163653.4038665046)</td>\n",
       "    </tr>\n",
       "    <tr>\n",
       "      <th>8</th>\n",
       "      <td>POINT (621477.7574525437 164085.8951444005)</td>\n",
       "    </tr>\n",
       "  </tbody>\n",
       "</table>\n",
       "</div>"
      ],
      "text/plain": [
       "                                      geometry\n",
       "2  POINT (621913.3153830337 164903.3379650218)\n",
       "3  POINT (621612.0857702466 164217.1288344094)\n",
       "5  POINT (621854.4787915241 163374.7302612905)\n",
       "7  POINT (622860.0605300277 163653.4038665046)\n",
       "8  POINT (621477.7574525437 164085.8951444005)"
      ]
     },
     "execution_count": 7,
     "metadata": {},
     "output_type": "execute_result"
    }
   ],
   "source": [
    "# No Multi Processing\n",
    "\n",
    "# Identify households within the buffer\n",
    "t1_intersection_no_multi = time.time()\n",
    "intersection = [union_buffer['geometry'].intersection(hh) for hh in simulated_households['geometry']]\n",
    "t2_intersection_no_multi = time.time()-t1_intersection_no_multi\n",
    "print t2_intersection_no_multi, 'seconds to identify households within the 50m street buffer No MultiProcessing'\n",
    "intersection = gpd.GeoDataFrame(intersection, crs=streets.crs)\n",
    "intersection.columns = ['geometry']\n",
    "\n",
    "# Ignore households not in the buffer --> shapely.geometry.collection.GeometryCollection\n",
    "households_gdf = intersection[intersection.geom_type != 'GeometryCollection']\n",
    "households_gdf[:5]"
   ]
  },
  {
   "cell_type": "code",
   "execution_count": 8,
   "metadata": {
    "collapsed": false
   },
   "outputs": [
    {
     "name": "stdout",
     "output_type": "stream",
     "text": [
      "4  Cores in each Node \n",
      "0.00734996795654 seconds to identify households within the 50m street buffer with MULTI Processing\n"
     ]
    }
   ],
   "source": [
    "# Multi Processing\n",
    "\n",
    "def point_in(simulated_coords):\n",
    "    for hh in simulated_coords:\n",
    "        return hh*2\n",
    "\n",
    "cores = mp.cpu_count()\n",
    "print cores,' Cores in each Node '\n",
    "p = mp.Pool(processes=cores)\n",
    "\n",
    "\n",
    "t1_intersection_multi = time.time()\n",
    "multi_processing = p.map(point_in, simulated_coords)\n",
    "t2_intersection_multi = time.time()-t1_intersection_multi\n",
    "\n",
    "\n",
    "print t2_intersection_multi, 'seconds to identify households within the 50m street buffer with MULTI Processing'"
   ]
  },
  {
   "cell_type": "markdown",
   "metadata": {
    "collapsed": false
   },
   "source": [
    "------------"
   ]
  },
  {
   "cell_type": "code",
   "execution_count": 9,
   "metadata": {
    "collapsed": false
   },
   "outputs": [
    {
     "data": {
      "text/plain": [
       "[1246776.9852811196,\n",
       " 1245344.8185179709,\n",
       " 1243826.6307660674,\n",
       " 1243224.1715404931,\n",
       " 1246829.7965350493,\n",
       " 1243708.9575830481,\n",
       " 1243310.2821786182,\n",
       " 1245720.1210600554,\n",
       " 1242955.5149050874,\n",
       " 1244626.058365738,\n",
       " 1246190.0002885114,\n",
       " 1245234.8631695821,\n",
       " 1242849.0517517556,\n",
       " 1244381.1538365413,\n",
       " 1244689.2528745129,\n",
       " 1244992.6625946797,\n",
       " 1244225.6900824239,\n",
       " 1246318.2371632787,\n",
       " 1245728.5317600335,\n",
       " 1247288.8849162031,\n",
       " 1244155.156243538,\n",
       " 1246865.2663970443,\n",
       " 1246069.9081882988,\n",
       " 1245645.2315646056,\n",
       " 1246690.8488781892,\n",
       " 1243535.9010876028,\n",
       " 1243903.1094580961,\n",
       " 1246449.5115138483,\n",
       " 1245936.0534389783,\n",
       " 1246741.8866164552,\n",
       " 1245599.5080708873,\n",
       " 1245919.4743146154,\n",
       " 1246286.551907609,\n",
       " 1246921.9111613983,\n",
       " 1243669.2872965306,\n",
       " 1246593.6451259241,\n",
       " 1246881.8160035796,\n",
       " 1247325.4720569674,\n",
       " 1246116.8352370372,\n",
       " 1247070.3516201552,\n",
       " 1244724.8953985756,\n",
       " 1243243.9162871891,\n",
       " 1247167.0838025727,\n",
       " 1247057.0469263219,\n",
       " 1243103.0690153481,\n",
       " 1246249.7663301094,\n",
       " 1244662.7246700807,\n",
       " 1246841.2002314546,\n",
       " 1243505.9770480422,\n",
       " 1245505.3347935083,\n",
       " 1246449.8079715339,\n",
       " 1245634.38361922,\n",
       " 1245897.4584575251,\n",
       " 1245686.8420875024,\n",
       " 1245549.8166074248,\n",
       " 1243984.6856846511,\n",
       " 1243120.3413816884,\n",
       " 1246657.3206665213,\n",
       " 1246043.7095950891,\n",
       " 1246167.5446179903,\n",
       " 1245042.4345661551,\n",
       " 1247269.0215134274,\n",
       " 1246082.526798625,\n",
       " 1245032.172881779,\n",
       " 1245037.4873886264,\n",
       " 1244203.8738616223,\n",
       " 1245824.1602796477,\n",
       " 1242787.4597821783,\n",
       " 1243953.4663547333,\n",
       " 1243691.1893528332,\n",
       " 1245005.3654941295,\n",
       " 1247347.7798840378,\n",
       " 1245230.7967700101,\n",
       " 1243552.8726569661,\n",
       " 1246196.1465971086,\n",
       " 1246528.0836744548,\n",
       " 1243103.8441626115,\n",
       " 1243052.4632752764,\n",
       " 1242986.9960668513,\n",
       " 1244959.0905040468,\n",
       " 1246255.7901323219,\n",
       " 1243178.1360806711,\n",
       " 1242767.5504321777,\n",
       " 1247286.7041626167,\n",
       " 1244441.2444302074,\n",
       " 1243361.17926608,\n",
       " 1246481.582084191,\n",
       " 1245945.6693498672,\n",
       " 1244981.1946634382,\n",
       " 1244179.9476389429,\n",
       " 1243686.8957084089,\n",
       " 1245605.5972030221,\n",
       " 1245670.3910019705,\n",
       " 1243091.0887268761,\n",
       " 1246978.2999433519,\n",
       " 1243988.5237671745,\n",
       " 1242976.3637127476,\n",
       " 1246178.2571060776,\n",
       " 1243845.5089854475,\n",
       " 1244986.5431193118]"
      ]
     },
     "execution_count": 9,
     "metadata": {},
     "output_type": "execute_result"
    }
   ],
   "source": [
    "multi_processing"
   ]
  },
  {
   "cell_type": "code",
   "execution_count": null,
   "metadata": {
    "collapsed": true
   },
   "outputs": [],
   "source": []
  }
 ],
 "metadata": {
  "kernelspec": {
   "display_name": "Python 2",
   "language": "python",
   "name": "python2"
  },
  "language_info": {
   "codemirror_mode": {
    "name": "ipython",
    "version": 2
   },
   "file_extension": ".py",
   "mimetype": "text/x-python",
   "name": "python",
   "nbconvert_exporter": "python",
   "pygments_lexer": "ipython2",
   "version": "2.7.10"
  }
 },
 "nbformat": 4,
 "nbformat_minor": 0
}
